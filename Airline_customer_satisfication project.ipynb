# About Dataset

The dataset provides insights into customer satisfaction levels within an undisclosed airline company. 
While the specific airline name is withheld, the dataset is rich in information, containing 22 columns 
and 129,880 rows. It aims to predict whether future customers will be satisfied based on various parameters
included in the dataset.

The columns likely cover a range of factors that influence customer satisfaction, such as flight punctuality, 
service quality, and so. By analyzing this dataset, airlines can gain valuable insights into the factors that 
contribute to customer satisfaction and tailor their services accordingly to enhance the overall customer experience.


- **Satisfaction:** Indicates the satisfaction level of the customer.
- **Customer Type:** Type of customer: 'Loyal Customer' or 'Disloyal Customer’.
- **Age:** Age of the customer.
- **Type of Travel:** Purpose of the travel: 'Business travel' or 'Personal Travel’.
- **Class:**	Class of travel: 'Business', 'Eco', or 'Eco Plus’.
- **Flight Distance:** The distance of the flight in kilometres
- **Seat comfort:** Rating of seat comfort provided during the flight (1 to 5).
- **Departure/Arrival time convenient** Rating of the convenience of departure/arrival time (1 to 5).
- **Food and drink:** Rating of food and drink quality provided during the flight (1 to 5).
- **Gate location:**	Rating of gate location convenience (1 to 5).
- **Inflight wifi service:**	Rating of inflight wifi service satisfaction (1 to 5).
- **Inflight entertainment:** Rating of inflight entertainment satisfaction (1 to 5).
- **Online support:** Rating of online customer support satisfaction (1 to 5).
- **Ease of Online booking:** Rating of ease of online booking satisfaction (1 to 5).
- **On-board service:** Rating of on-board service satisfaction (1 to 5).
- **Leg room service:** Rating of leg room service satisfaction (1 to 5).
- **Baggage handling:** Rating of baggage handling satisfaction (1 to 5).
- **Checkin service:** Rating of check-in service satisfaction (1 to 5).
- **Cleanliness:** Rating of cleanliness satisfaction (1 to 5).
- **Online boarding:** Rating of online boarding satisfaction (1 to 5).
- **Departure Delay in Minutes:** Total departure delay in minutes.
- **Arrival Delay in Minutes:** Total arrival delay in minutes.

## IMPORTING LIBRARIES


```python
import pandas as pd
import numpy as np
import matplotlib.pyplot as plt
import seaborn as sns
from sklearn.model_selection import train_test_split, cross_val_score, KFold
from sklearn.preprocessing import StandardScaler
from sklearn.linear_model import LogisticRegression
from sklearn.ensemble import RandomForestClassifier
from sklearn.tree import DecisionTreeClassifier
from sklearn.neighbors import KNeighborsClassifier
from sklearn.svm import SVC
import xgboost as xgb
from sklearn.model_selection import GridSearchCV,RandomizedSearchCV
from sklearn.metrics import accuracy_score,ConfusionMatrixDisplay, classification_report
import warnings
warnings.filterwarnings('ignore')
```


```python
pip install xgboost
```

    Defaulting to user installation because normal site-packages is not writeable
    Requirement already satisfied: xgboost in c:\users\lenovo\appdata\roaming\python\python311\site-packages (2.0.3)
    Requirement already satisfied: numpy in c:\programdata\anaconda3\lib\site-packages (from xgboost) (1.24.3)
    Requirement already satisfied: scipy in c:\programdata\anaconda3\lib\site-packages (from xgboost) (1.11.1)
    Note: you may need to restart the kernel to use updated packages.
    

# Functions for plot customizations 


```python
def set_size_style(width, height, style=None):
    plt.figure(figsize=(width, height))
    if style != None:
        sns.set_style(style)

def customize_plot(plot, title:str, xlabel:str,  ylabel:str, title_font:int, label_font:int):
    plot.set_title(title, fontsize = title_font, weight='bold')
    plot.set_xlabel(xlabel, fontsize = label_font, weight='bold')
    plot.set_ylabel(ylabel, fontsize = label_font, weight='bold')
```

# Data Exploration & Cleaning


```python
customer_df = pd.read_csv('Airline_customer_satisfaction.csv')
customer_df
```




<div>
<style scoped>
    .dataframe tbody tr th:only-of-type {
        vertical-align: middle;
    }

    .dataframe tbody tr th {
        vertical-align: top;
    }

    .dataframe thead th {
        text-align: right;
    }
</style>
<table border="1" class="dataframe">
  <thead>
    <tr style="text-align: right;">
      <th></th>
      <th>satisfaction</th>
      <th>Customer Type</th>
      <th>Age</th>
      <th>Type of Travel</th>
      <th>Class</th>
      <th>Flight Distance</th>
      <th>Seat comfort</th>
      <th>Departure/Arrival time convenient</th>
      <th>Food and drink</th>
      <th>Gate location</th>
      <th>...</th>
      <th>Online support</th>
      <th>Ease of Online booking</th>
      <th>On-board service</th>
      <th>Leg room service</th>
      <th>Baggage handling</th>
      <th>Checkin service</th>
      <th>Cleanliness</th>
      <th>Online boarding</th>
      <th>Departure Delay in Minutes</th>
      <th>Arrival Delay in Minutes</th>
    </tr>
  </thead>
  <tbody>
    <tr>
      <th>0</th>
      <td>satisfied</td>
      <td>Loyal Customer</td>
      <td>65</td>
      <td>Personal Travel</td>
      <td>Eco</td>
      <td>265</td>
      <td>0</td>
      <td>0</td>
      <td>0</td>
      <td>2</td>
      <td>...</td>
      <td>2</td>
      <td>3</td>
      <td>3</td>
      <td>0</td>
      <td>3</td>
      <td>5</td>
      <td>3</td>
      <td>2</td>
      <td>0</td>
      <td>0.0</td>
    </tr>
    <tr>
      <th>1</th>
      <td>satisfied</td>
      <td>Loyal Customer</td>
      <td>47</td>
      <td>Personal Travel</td>
      <td>Business</td>
      <td>2464</td>
      <td>0</td>
      <td>0</td>
      <td>0</td>
      <td>3</td>
      <td>...</td>
      <td>2</td>
      <td>3</td>
      <td>4</td>
      <td>4</td>
      <td>4</td>
      <td>2</td>
      <td>3</td>
      <td>2</td>
      <td>310</td>
      <td>305.0</td>
    </tr>
    <tr>
      <th>2</th>
      <td>satisfied</td>
      <td>Loyal Customer</td>
      <td>15</td>
      <td>Personal Travel</td>
      <td>Eco</td>
      <td>2138</td>
      <td>0</td>
      <td>0</td>
      <td>0</td>
      <td>3</td>
      <td>...</td>
      <td>2</td>
      <td>2</td>
      <td>3</td>
      <td>3</td>
      <td>4</td>
      <td>4</td>
      <td>4</td>
      <td>2</td>
      <td>0</td>
      <td>0.0</td>
    </tr>
    <tr>
      <th>3</th>
      <td>satisfied</td>
      <td>Loyal Customer</td>
      <td>60</td>
      <td>Personal Travel</td>
      <td>Eco</td>
      <td>623</td>
      <td>0</td>
      <td>0</td>
      <td>0</td>
      <td>3</td>
      <td>...</td>
      <td>3</td>
      <td>1</td>
      <td>1</td>
      <td>0</td>
      <td>1</td>
      <td>4</td>
      <td>1</td>
      <td>3</td>
      <td>0</td>
      <td>0.0</td>
    </tr>
    <tr>
      <th>4</th>
      <td>satisfied</td>
      <td>Loyal Customer</td>
      <td>70</td>
      <td>Personal Travel</td>
      <td>Eco</td>
      <td>354</td>
      <td>0</td>
      <td>0</td>
      <td>0</td>
      <td>3</td>
      <td>...</td>
      <td>4</td>
      <td>2</td>
      <td>2</td>
      <td>0</td>
      <td>2</td>
      <td>4</td>
      <td>2</td>
      <td>5</td>
      <td>0</td>
      <td>0.0</td>
    </tr>
    <tr>
      <th>...</th>
      <td>...</td>
      <td>...</td>
      <td>...</td>
      <td>...</td>
      <td>...</td>
      <td>...</td>
      <td>...</td>
      <td>...</td>
      <td>...</td>
      <td>...</td>
      <td>...</td>
      <td>...</td>
      <td>...</td>
      <td>...</td>
      <td>...</td>
      <td>...</td>
      <td>...</td>
      <td>...</td>
      <td>...</td>
      <td>...</td>
      <td>...</td>
    </tr>
    <tr>
      <th>129875</th>
      <td>satisfied</td>
      <td>disloyal Customer</td>
      <td>29</td>
      <td>Personal Travel</td>
      <td>Eco</td>
      <td>1731</td>
      <td>5</td>
      <td>5</td>
      <td>5</td>
      <td>3</td>
      <td>...</td>
      <td>2</td>
      <td>2</td>
      <td>3</td>
      <td>3</td>
      <td>4</td>
      <td>4</td>
      <td>4</td>
      <td>2</td>
      <td>0</td>
      <td>0.0</td>
    </tr>
    <tr>
      <th>129876</th>
      <td>dissatisfied</td>
      <td>disloyal Customer</td>
      <td>63</td>
      <td>Personal Travel</td>
      <td>Business</td>
      <td>2087</td>
      <td>2</td>
      <td>3</td>
      <td>2</td>
      <td>4</td>
      <td>...</td>
      <td>1</td>
      <td>3</td>
      <td>2</td>
      <td>3</td>
      <td>3</td>
      <td>1</td>
      <td>2</td>
      <td>1</td>
      <td>174</td>
      <td>172.0</td>
    </tr>
    <tr>
      <th>129877</th>
      <td>dissatisfied</td>
      <td>disloyal Customer</td>
      <td>69</td>
      <td>Personal Travel</td>
      <td>Eco</td>
      <td>2320</td>
      <td>3</td>
      <td>0</td>
      <td>3</td>
      <td>3</td>
      <td>...</td>
      <td>2</td>
      <td>4</td>
      <td>4</td>
      <td>3</td>
      <td>4</td>
      <td>2</td>
      <td>3</td>
      <td>2</td>
      <td>155</td>
      <td>163.0</td>
    </tr>
    <tr>
      <th>129878</th>
      <td>dissatisfied</td>
      <td>disloyal Customer</td>
      <td>66</td>
      <td>Personal Travel</td>
      <td>Eco</td>
      <td>2450</td>
      <td>3</td>
      <td>2</td>
      <td>3</td>
      <td>2</td>
      <td>...</td>
      <td>2</td>
      <td>3</td>
      <td>3</td>
      <td>2</td>
      <td>3</td>
      <td>2</td>
      <td>1</td>
      <td>2</td>
      <td>193</td>
      <td>205.0</td>
    </tr>
    <tr>
      <th>129879</th>
      <td>dissatisfied</td>
      <td>disloyal Customer</td>
      <td>38</td>
      <td>Personal Travel</td>
      <td>Eco</td>
      <td>4307</td>
      <td>3</td>
      <td>4</td>
      <td>3</td>
      <td>3</td>
      <td>...</td>
      <td>3</td>
      <td>4</td>
      <td>5</td>
      <td>5</td>
      <td>5</td>
      <td>3</td>
      <td>3</td>
      <td>3</td>
      <td>185</td>
      <td>186.0</td>
    </tr>
  </tbody>
</table>
<p>129880 rows × 22 columns</p>
</div>




```python
customer_df.head()
```




<div>
<style scoped>
    .dataframe tbody tr th:only-of-type {
        vertical-align: middle;
    }

    .dataframe tbody tr th {
        vertical-align: top;
    }

    .dataframe thead th {
        text-align: right;
    }
</style>
<table border="1" class="dataframe">
  <thead>
    <tr style="text-align: right;">
      <th></th>
      <th>satisfaction</th>
      <th>Customer Type</th>
      <th>Age</th>
      <th>Type of Travel</th>
      <th>Class</th>
      <th>Flight Distance</th>
      <th>Seat comfort</th>
      <th>Departure/Arrival time convenient</th>
      <th>Food and drink</th>
      <th>Gate location</th>
      <th>...</th>
      <th>Online support</th>
      <th>Ease of Online booking</th>
      <th>On-board service</th>
      <th>Leg room service</th>
      <th>Baggage handling</th>
      <th>Checkin service</th>
      <th>Cleanliness</th>
      <th>Online boarding</th>
      <th>Departure Delay in Minutes</th>
      <th>Arrival Delay in Minutes</th>
    </tr>
  </thead>
  <tbody>
    <tr>
      <th>0</th>
      <td>satisfied</td>
      <td>Loyal Customer</td>
      <td>65</td>
      <td>Personal Travel</td>
      <td>Eco</td>
      <td>265</td>
      <td>0</td>
      <td>0</td>
      <td>0</td>
      <td>2</td>
      <td>...</td>
      <td>2</td>
      <td>3</td>
      <td>3</td>
      <td>0</td>
      <td>3</td>
      <td>5</td>
      <td>3</td>
      <td>2</td>
      <td>0</td>
      <td>0.0</td>
    </tr>
    <tr>
      <th>1</th>
      <td>satisfied</td>
      <td>Loyal Customer</td>
      <td>47</td>
      <td>Personal Travel</td>
      <td>Business</td>
      <td>2464</td>
      <td>0</td>
      <td>0</td>
      <td>0</td>
      <td>3</td>
      <td>...</td>
      <td>2</td>
      <td>3</td>
      <td>4</td>
      <td>4</td>
      <td>4</td>
      <td>2</td>
      <td>3</td>
      <td>2</td>
      <td>310</td>
      <td>305.0</td>
    </tr>
    <tr>
      <th>2</th>
      <td>satisfied</td>
      <td>Loyal Customer</td>
      <td>15</td>
      <td>Personal Travel</td>
      <td>Eco</td>
      <td>2138</td>
      <td>0</td>
      <td>0</td>
      <td>0</td>
      <td>3</td>
      <td>...</td>
      <td>2</td>
      <td>2</td>
      <td>3</td>
      <td>3</td>
      <td>4</td>
      <td>4</td>
      <td>4</td>
      <td>2</td>
      <td>0</td>
      <td>0.0</td>
    </tr>
    <tr>
      <th>3</th>
      <td>satisfied</td>
      <td>Loyal Customer</td>
      <td>60</td>
      <td>Personal Travel</td>
      <td>Eco</td>
      <td>623</td>
      <td>0</td>
      <td>0</td>
      <td>0</td>
      <td>3</td>
      <td>...</td>
      <td>3</td>
      <td>1</td>
      <td>1</td>
      <td>0</td>
      <td>1</td>
      <td>4</td>
      <td>1</td>
      <td>3</td>
      <td>0</td>
      <td>0.0</td>
    </tr>
    <tr>
      <th>4</th>
      <td>satisfied</td>
      <td>Loyal Customer</td>
      <td>70</td>
      <td>Personal Travel</td>
      <td>Eco</td>
      <td>354</td>
      <td>0</td>
      <td>0</td>
      <td>0</td>
      <td>3</td>
      <td>...</td>
      <td>4</td>
      <td>2</td>
      <td>2</td>
      <td>0</td>
      <td>2</td>
      <td>4</td>
      <td>2</td>
      <td>5</td>
      <td>0</td>
      <td>0.0</td>
    </tr>
  </tbody>
</table>
<p>5 rows × 22 columns</p>
</div>




```python
customer_df.shape
```




    (129880, 22)




```python
customer_df.info()
```

    <class 'pandas.core.frame.DataFrame'>
    RangeIndex: 129880 entries, 0 to 129879
    Data columns (total 22 columns):
     #   Column                             Non-Null Count   Dtype  
    ---  ------                             --------------   -----  
     0   satisfaction                       129880 non-null  object 
     1   Customer Type                      129880 non-null  object 
     2   Age                                129880 non-null  int64  
     3   Type of Travel                     129880 non-null  object 
     4   Class                              129880 non-null  object 
     5   Flight Distance                    129880 non-null  int64  
     6   Seat comfort                       129880 non-null  int64  
     7   Departure/Arrival time convenient  129880 non-null  int64  
     8   Food and drink                     129880 non-null  int64  
     9   Gate location                      129880 non-null  int64  
     10  Inflight wifi service              129880 non-null  int64  
     11  Inflight entertainment             129880 non-null  int64  
     12  Online support                     129880 non-null  int64  
     13  Ease of Online booking             129880 non-null  int64  
     14  On-board service                   129880 non-null  int64  
     15  Leg room service                   129880 non-null  int64  
     16  Baggage handling                   129880 non-null  int64  
     17  Checkin service                    129880 non-null  int64  
     18  Cleanliness                        129880 non-null  int64  
     19  Online boarding                    129880 non-null  int64  
     20  Departure Delay in Minutes         129880 non-null  int64  
     21  Arrival Delay in Minutes           129487 non-null  float64
    dtypes: float64(1), int64(17), object(4)
    memory usage: 21.8+ MB
    


```python
customer_df.describe()
```




<div>
<style scoped>
    .dataframe tbody tr th:only-of-type {
        vertical-align: middle;
    }

    .dataframe tbody tr th {
        vertical-align: top;
    }

    .dataframe thead th {
        text-align: right;
    }
</style>
<table border="1" class="dataframe">
  <thead>
    <tr style="text-align: right;">
      <th></th>
      <th>Age</th>
      <th>Flight Distance</th>
      <th>Seat comfort</th>
      <th>Departure/Arrival time convenient</th>
      <th>Food and drink</th>
      <th>Gate location</th>
      <th>Inflight wifi service</th>
      <th>Inflight entertainment</th>
      <th>Online support</th>
      <th>Ease of Online booking</th>
      <th>On-board service</th>
      <th>Leg room service</th>
      <th>Baggage handling</th>
      <th>Checkin service</th>
      <th>Cleanliness</th>
      <th>Online boarding</th>
      <th>Departure Delay in Minutes</th>
      <th>Arrival Delay in Minutes</th>
    </tr>
  </thead>
  <tbody>
    <tr>
      <th>count</th>
      <td>129880.000000</td>
      <td>129880.000000</td>
      <td>129880.000000</td>
      <td>129880.000000</td>
      <td>129880.000000</td>
      <td>129880.000000</td>
      <td>129880.000000</td>
      <td>129880.000000</td>
      <td>129880.000000</td>
      <td>129880.000000</td>
      <td>129880.000000</td>
      <td>129880.000000</td>
      <td>129880.000000</td>
      <td>129880.000000</td>
      <td>129880.000000</td>
      <td>129880.000000</td>
      <td>129880.000000</td>
      <td>129487.000000</td>
    </tr>
    <tr>
      <th>mean</th>
      <td>39.427957</td>
      <td>1981.409055</td>
      <td>2.838597</td>
      <td>2.990645</td>
      <td>2.851994</td>
      <td>2.990422</td>
      <td>3.249130</td>
      <td>3.383477</td>
      <td>3.519703</td>
      <td>3.472105</td>
      <td>3.465075</td>
      <td>3.485902</td>
      <td>3.695673</td>
      <td>3.340807</td>
      <td>3.705759</td>
      <td>3.352587</td>
      <td>14.713713</td>
      <td>15.091129</td>
    </tr>
    <tr>
      <th>std</th>
      <td>15.119360</td>
      <td>1027.115606</td>
      <td>1.392983</td>
      <td>1.527224</td>
      <td>1.443729</td>
      <td>1.305970</td>
      <td>1.318818</td>
      <td>1.346059</td>
      <td>1.306511</td>
      <td>1.305560</td>
      <td>1.270836</td>
      <td>1.292226</td>
      <td>1.156483</td>
      <td>1.260582</td>
      <td>1.151774</td>
      <td>1.298715</td>
      <td>38.071126</td>
      <td>38.465650</td>
    </tr>
    <tr>
      <th>min</th>
      <td>7.000000</td>
      <td>50.000000</td>
      <td>0.000000</td>
      <td>0.000000</td>
      <td>0.000000</td>
      <td>0.000000</td>
      <td>0.000000</td>
      <td>0.000000</td>
      <td>0.000000</td>
      <td>0.000000</td>
      <td>0.000000</td>
      <td>0.000000</td>
      <td>1.000000</td>
      <td>0.000000</td>
      <td>0.000000</td>
      <td>0.000000</td>
      <td>0.000000</td>
      <td>0.000000</td>
    </tr>
    <tr>
      <th>25%</th>
      <td>27.000000</td>
      <td>1359.000000</td>
      <td>2.000000</td>
      <td>2.000000</td>
      <td>2.000000</td>
      <td>2.000000</td>
      <td>2.000000</td>
      <td>2.000000</td>
      <td>3.000000</td>
      <td>2.000000</td>
      <td>3.000000</td>
      <td>2.000000</td>
      <td>3.000000</td>
      <td>3.000000</td>
      <td>3.000000</td>
      <td>2.000000</td>
      <td>0.000000</td>
      <td>0.000000</td>
    </tr>
    <tr>
      <th>50%</th>
      <td>40.000000</td>
      <td>1925.000000</td>
      <td>3.000000</td>
      <td>3.000000</td>
      <td>3.000000</td>
      <td>3.000000</td>
      <td>3.000000</td>
      <td>4.000000</td>
      <td>4.000000</td>
      <td>4.000000</td>
      <td>4.000000</td>
      <td>4.000000</td>
      <td>4.000000</td>
      <td>3.000000</td>
      <td>4.000000</td>
      <td>4.000000</td>
      <td>0.000000</td>
      <td>0.000000</td>
    </tr>
    <tr>
      <th>75%</th>
      <td>51.000000</td>
      <td>2544.000000</td>
      <td>4.000000</td>
      <td>4.000000</td>
      <td>4.000000</td>
      <td>4.000000</td>
      <td>4.000000</td>
      <td>4.000000</td>
      <td>5.000000</td>
      <td>5.000000</td>
      <td>4.000000</td>
      <td>5.000000</td>
      <td>5.000000</td>
      <td>4.000000</td>
      <td>5.000000</td>
      <td>4.000000</td>
      <td>12.000000</td>
      <td>13.000000</td>
    </tr>
    <tr>
      <th>max</th>
      <td>85.000000</td>
      <td>6951.000000</td>
      <td>5.000000</td>
      <td>5.000000</td>
      <td>5.000000</td>
      <td>5.000000</td>
      <td>5.000000</td>
      <td>5.000000</td>
      <td>5.000000</td>
      <td>5.000000</td>
      <td>5.000000</td>
      <td>5.000000</td>
      <td>5.000000</td>
      <td>5.000000</td>
      <td>5.000000</td>
      <td>5.000000</td>
      <td>1592.000000</td>
      <td>1584.000000</td>
    </tr>
  </tbody>
</table>
</div>




```python
for col in customer_df.describe(include='object').columns:
    print('Column Name: ',col)
    print(customer_df[col].unique())
    print('-'*50)
```

    Column Name:  satisfaction
    ['satisfied' 'dissatisfied']
    --------------------------------------------------
    Column Name:  Customer Type
    ['Loyal Customer' 'disloyal Customer']
    --------------------------------------------------
    Column Name:  Type of Travel
    ['Personal Travel' 'Business travel']
    --------------------------------------------------
    Column Name:  Class
    ['Eco' 'Business' 'Eco Plus']
    --------------------------------------------------
    


```python
customer_df.isna().sum()
```




    satisfaction                           0
    Customer Type                          0
    Age                                    0
    Type of Travel                         0
    Class                                  0
    Flight Distance                        0
    Seat comfort                           0
    Departure/Arrival time convenient      0
    Food and drink                         0
    Gate location                          0
    Inflight wifi service                  0
    Inflight entertainment                 0
    Online support                         0
    Ease of Online booking                 0
    On-board service                       0
    Leg room service                       0
    Baggage handling                       0
    Checkin service                        0
    Cleanliness                            0
    Online boarding                        0
    Departure Delay in Minutes             0
    Arrival Delay in Minutes             393
    dtype: int64




```python
customer_df['Arrival Delay in Minutes'].fillna(customer_df['Arrival Delay in Minutes'].mean(), inplace=True)
```

## HANDLING OUTLIERS


```python
for col in customer_df.describe().columns:
    set_size_style(16,2,'ticks')
    sns.boxplot(data=customer_df, x=col)
    plt.show()
```


    
![png](output_18_0.png)
    



    
![png](output_18_1.png)
    



    
![png](output_18_2.png)
    



    
![png](output_18_3.png)
    



    
![png](output_18_4.png)
    



    
![png](output_18_5.png)
    



    
![png](output_18_6.png)
    



    
![png](output_18_7.png)
    



    
![png](output_18_8.png)
    



    
![png](output_18_9.png)
    



    
![png](output_18_10.png)
    



    
![png](output_18_11.png)
    



    
![png](output_18_12.png)
    



    
![png](output_18_13.png)
    



    
![png](output_18_14.png)
    



    
![png](output_18_15.png)
    



    
![png](output_18_16.png)
    



    
![png](output_18_17.png)
    



```python
customer_df = customer_df.drop(customer_df[customer_df['Departure Delay in Minutes'] > 500 ].index)
customer_df = customer_df.drop(customer_df[customer_df['Arrival Delay in Minutes'] > 500 ].index)
customer_df = customer_df.drop(customer_df[customer_df['Flight Distance'] > 5500 ].index)
customer_df.reset_index(drop=True, inplace=True)
customer_df.shape
```




    (129587, 22)




```python
customer_df.columns
```




    Index(['satisfaction', 'Customer Type', 'Age', 'Type of Travel', 'Class',
           'Flight Distance', 'Seat comfort', 'Departure/Arrival time convenient',
           'Food and drink', 'Gate location', 'Inflight wifi service',
           'Inflight entertainment', 'Online support', 'Ease of Online booking',
           'On-board service', 'Leg room service', 'Baggage handling',
           'Checkin service', 'Cleanliness', 'Online boarding',
           'Departure Delay in Minutes', 'Arrival Delay in Minutes'],
          dtype='object')




```python
for col in customer_df.describe(include='object').columns:
    print('Column Name: ',col)
    print(customer_df[col].unique())
    print('-'*50)
```

    Column Name:  satisfaction
    ['satisfied' 'dissatisfied']
    --------------------------------------------------
    Column Name:  Customer Type
    ['Loyal Customer' 'disloyal Customer']
    --------------------------------------------------
    Column Name:  Type of Travel
    ['Personal Travel' 'Business travel']
    --------------------------------------------------
    Column Name:  Class
    ['Eco' 'Business' 'Eco Plus']
    --------------------------------------------------
    

## EXPLOTARY DATA ANALYSIS


```python
set_size_style(10,5)
ax = sns.histplot(customer_df['Age'],bins=25,color= sns.color_palette('Spectral')[0],kde=True)
customize_plot(ax,'Age Distribution','Age','Frequency',13,10)
```


    
![png](output_23_0.png)
    


- The majority of individuals fall within the age range of 20 to 60 years, with a notable concentration around the age of 40.


```python
plt.title("Satisfied vs Dissatisfied", fontsize = 12, weight='bold')
plt.pie(customer_df['satisfaction'].value_counts(),labels=customer_df['satisfaction'].value_counts().index,radius=1, autopct='%.2f%%',textprops={'fontsize': 10, 'fontweight': 'bold'}, colors = sns.color_palette('Spectral'))
plt.show()
```


    
![png](output_25_0.png)
    


- The number of satisfied customers exceeds the number of dissatisfied customers, indicating a prevailing trend towards positive experiences with
  the service or product.


```python
set_size_style(12,5)
age_groups = customer_df.groupby('Age')['satisfaction'].value_counts(normalize=True).unstack()
satisfied_percentage = age_groups['satisfied'] * 100
ax =sns.lineplot(x=satisfied_percentage.index, y=satisfied_percentage.values, marker='o', color= sns.color_palette('Spectral')[0])
customize_plot(ax, 'Satisfied Percentage across Age', 'Age', 'Satisfied Percentage',13,10)
plt.grid(True)
plt.show()
```


    
![png](output_27_0.png)
    


* Individuals in their 40s and 50s exhibit satisfaction with airline services.
* Conversely, older individuals above the age of 70 express higher levels of dissatisfaction with the services provided


```python
set_size_style(12,7)
class_ratings = customer_df.groupby('Class').agg({'Cleanliness':'mean',
                                                       'Checkin service' : 'mean',
                                                       'Seat comfort':'mean',
                                                       'Inflight wifi service':'mean', 
                                                       'Leg room service':'mean'}).reset_index()
class_ratings_melted = pd.melt(class_ratings, id_vars='Class', var_name='Category', value_name='Mean Rating')
ax = sns.barplot(x='Class', y='Mean Rating', hue='Category', data=class_ratings_melted, palette='Spectral')
for c in ax.containers:
        ax.bar_label(c)
customize_plot(ax, 'Mean Ratings across Class', 'Class', 'Mean Rating',13,10)
handles, labels = ax.get_legend_handles_labels()
ax.legend(handles=handles, labels=labels, title='Category', bbox_to_anchor=(1.05, 1), loc='upper left')

```




    <matplotlib.legend.Legend at 0x1fa732f2ad0>




    
![png](output_29_1.png)
    


* Travelers in the business class generally give higher average ratings for cleanliness, check-in experience, in-flight wifi,     and legroom service.
* Interestingly, passengers in the business class tend to rate seat comfort comparatively lower.


```python
corr = customer_df[['Flight Distance', 'Seat comfort', 'Departure/Arrival time convenient',
       'Food and drink', 'Gate location', 'Inflight wifi service',
       'Inflight entertainment', 'Online support', 'Ease of Online booking',
       'On-board service', 'Leg room service', 'Baggage handling',
       'Checkin service', 'Cleanliness', 'Online boarding',
       'Departure Delay in Minutes', 'Arrival Delay in Minutes']].corr()
mask = np.triu(np.ones_like(corr, dtype=bool))
plt.figure(figsize=(12, 10))
sns.heatmap(corr, mask=mask, center=0, linewidths=1, annot=True, fmt=".2f",cmap = 'coolwarm')
```




    <Axes: >




    
![png](output_31_1.png)
    


## Encoding Categorical Features


```python
dummies=pd.get_dummies(customer_df['Class'], dtype=int)
dummies

```




<div>
<style scoped>
    .dataframe tbody tr th:only-of-type {
        vertical-align: middle;
    }

    .dataframe tbody tr th {
        vertical-align: top;
    }

    .dataframe thead th {
        text-align: right;
    }
</style>
<table border="1" class="dataframe">
  <thead>
    <tr style="text-align: right;">
      <th></th>
      <th>Business</th>
      <th>Eco</th>
      <th>Eco Plus</th>
    </tr>
  </thead>
  <tbody>
    <tr>
      <th>0</th>
      <td>0</td>
      <td>1</td>
      <td>0</td>
    </tr>
    <tr>
      <th>1</th>
      <td>1</td>
      <td>0</td>
      <td>0</td>
    </tr>
    <tr>
      <th>2</th>
      <td>0</td>
      <td>1</td>
      <td>0</td>
    </tr>
    <tr>
      <th>3</th>
      <td>0</td>
      <td>1</td>
      <td>0</td>
    </tr>
    <tr>
      <th>4</th>
      <td>0</td>
      <td>1</td>
      <td>0</td>
    </tr>
    <tr>
      <th>...</th>
      <td>...</td>
      <td>...</td>
      <td>...</td>
    </tr>
    <tr>
      <th>129582</th>
      <td>0</td>
      <td>1</td>
      <td>0</td>
    </tr>
    <tr>
      <th>129583</th>
      <td>1</td>
      <td>0</td>
      <td>0</td>
    </tr>
    <tr>
      <th>129584</th>
      <td>0</td>
      <td>1</td>
      <td>0</td>
    </tr>
    <tr>
      <th>129585</th>
      <td>0</td>
      <td>1</td>
      <td>0</td>
    </tr>
    <tr>
      <th>129586</th>
      <td>0</td>
      <td>1</td>
      <td>0</td>
    </tr>
  </tbody>
</table>
<p>129587 rows × 3 columns</p>
</div>




```python
customer_encoded = pd.concat([customer_df,dummies], axis = 'columns')
customer_encoded.drop(columns = ['Class'], inplace=True)
customer_encoded
```




<div>
<style scoped>
    .dataframe tbody tr th:only-of-type {
        vertical-align: middle;
    }

    .dataframe tbody tr th {
        vertical-align: top;
    }

    .dataframe thead th {
        text-align: right;
    }
</style>
<table border="1" class="dataframe">
  <thead>
    <tr style="text-align: right;">
      <th></th>
      <th>satisfaction</th>
      <th>Customer Type</th>
      <th>Age</th>
      <th>Type of Travel</th>
      <th>Flight Distance</th>
      <th>Seat comfort</th>
      <th>Departure/Arrival time convenient</th>
      <th>Food and drink</th>
      <th>Gate location</th>
      <th>Inflight wifi service</th>
      <th>...</th>
      <th>Leg room service</th>
      <th>Baggage handling</th>
      <th>Checkin service</th>
      <th>Cleanliness</th>
      <th>Online boarding</th>
      <th>Departure Delay in Minutes</th>
      <th>Arrival Delay in Minutes</th>
      <th>Business</th>
      <th>Eco</th>
      <th>Eco Plus</th>
    </tr>
  </thead>
  <tbody>
    <tr>
      <th>0</th>
      <td>satisfied</td>
      <td>Loyal Customer</td>
      <td>65</td>
      <td>Personal Travel</td>
      <td>265</td>
      <td>0</td>
      <td>0</td>
      <td>0</td>
      <td>2</td>
      <td>2</td>
      <td>...</td>
      <td>0</td>
      <td>3</td>
      <td>5</td>
      <td>3</td>
      <td>2</td>
      <td>0</td>
      <td>0.0</td>
      <td>0</td>
      <td>1</td>
      <td>0</td>
    </tr>
    <tr>
      <th>1</th>
      <td>satisfied</td>
      <td>Loyal Customer</td>
      <td>47</td>
      <td>Personal Travel</td>
      <td>2464</td>
      <td>0</td>
      <td>0</td>
      <td>0</td>
      <td>3</td>
      <td>0</td>
      <td>...</td>
      <td>4</td>
      <td>4</td>
      <td>2</td>
      <td>3</td>
      <td>2</td>
      <td>310</td>
      <td>305.0</td>
      <td>1</td>
      <td>0</td>
      <td>0</td>
    </tr>
    <tr>
      <th>2</th>
      <td>satisfied</td>
      <td>Loyal Customer</td>
      <td>15</td>
      <td>Personal Travel</td>
      <td>2138</td>
      <td>0</td>
      <td>0</td>
      <td>0</td>
      <td>3</td>
      <td>2</td>
      <td>...</td>
      <td>3</td>
      <td>4</td>
      <td>4</td>
      <td>4</td>
      <td>2</td>
      <td>0</td>
      <td>0.0</td>
      <td>0</td>
      <td>1</td>
      <td>0</td>
    </tr>
    <tr>
      <th>3</th>
      <td>satisfied</td>
      <td>Loyal Customer</td>
      <td>60</td>
      <td>Personal Travel</td>
      <td>623</td>
      <td>0</td>
      <td>0</td>
      <td>0</td>
      <td>3</td>
      <td>3</td>
      <td>...</td>
      <td>0</td>
      <td>1</td>
      <td>4</td>
      <td>1</td>
      <td>3</td>
      <td>0</td>
      <td>0.0</td>
      <td>0</td>
      <td>1</td>
      <td>0</td>
    </tr>
    <tr>
      <th>4</th>
      <td>satisfied</td>
      <td>Loyal Customer</td>
      <td>70</td>
      <td>Personal Travel</td>
      <td>354</td>
      <td>0</td>
      <td>0</td>
      <td>0</td>
      <td>3</td>
      <td>4</td>
      <td>...</td>
      <td>0</td>
      <td>2</td>
      <td>4</td>
      <td>2</td>
      <td>5</td>
      <td>0</td>
      <td>0.0</td>
      <td>0</td>
      <td>1</td>
      <td>0</td>
    </tr>
    <tr>
      <th>...</th>
      <td>...</td>
      <td>...</td>
      <td>...</td>
      <td>...</td>
      <td>...</td>
      <td>...</td>
      <td>...</td>
      <td>...</td>
      <td>...</td>
      <td>...</td>
      <td>...</td>
      <td>...</td>
      <td>...</td>
      <td>...</td>
      <td>...</td>
      <td>...</td>
      <td>...</td>
      <td>...</td>
      <td>...</td>
      <td>...</td>
      <td>...</td>
    </tr>
    <tr>
      <th>129582</th>
      <td>satisfied</td>
      <td>disloyal Customer</td>
      <td>29</td>
      <td>Personal Travel</td>
      <td>1731</td>
      <td>5</td>
      <td>5</td>
      <td>5</td>
      <td>3</td>
      <td>2</td>
      <td>...</td>
      <td>3</td>
      <td>4</td>
      <td>4</td>
      <td>4</td>
      <td>2</td>
      <td>0</td>
      <td>0.0</td>
      <td>0</td>
      <td>1</td>
      <td>0</td>
    </tr>
    <tr>
      <th>129583</th>
      <td>dissatisfied</td>
      <td>disloyal Customer</td>
      <td>63</td>
      <td>Personal Travel</td>
      <td>2087</td>
      <td>2</td>
      <td>3</td>
      <td>2</td>
      <td>4</td>
      <td>2</td>
      <td>...</td>
      <td>3</td>
      <td>3</td>
      <td>1</td>
      <td>2</td>
      <td>1</td>
      <td>174</td>
      <td>172.0</td>
      <td>1</td>
      <td>0</td>
      <td>0</td>
    </tr>
    <tr>
      <th>129584</th>
      <td>dissatisfied</td>
      <td>disloyal Customer</td>
      <td>69</td>
      <td>Personal Travel</td>
      <td>2320</td>
      <td>3</td>
      <td>0</td>
      <td>3</td>
      <td>3</td>
      <td>3</td>
      <td>...</td>
      <td>3</td>
      <td>4</td>
      <td>2</td>
      <td>3</td>
      <td>2</td>
      <td>155</td>
      <td>163.0</td>
      <td>0</td>
      <td>1</td>
      <td>0</td>
    </tr>
    <tr>
      <th>129585</th>
      <td>dissatisfied</td>
      <td>disloyal Customer</td>
      <td>66</td>
      <td>Personal Travel</td>
      <td>2450</td>
      <td>3</td>
      <td>2</td>
      <td>3</td>
      <td>2</td>
      <td>3</td>
      <td>...</td>
      <td>2</td>
      <td>3</td>
      <td>2</td>
      <td>1</td>
      <td>2</td>
      <td>193</td>
      <td>205.0</td>
      <td>0</td>
      <td>1</td>
      <td>0</td>
    </tr>
    <tr>
      <th>129586</th>
      <td>dissatisfied</td>
      <td>disloyal Customer</td>
      <td>38</td>
      <td>Personal Travel</td>
      <td>4307</td>
      <td>3</td>
      <td>4</td>
      <td>3</td>
      <td>3</td>
      <td>3</td>
      <td>...</td>
      <td>5</td>
      <td>5</td>
      <td>3</td>
      <td>3</td>
      <td>3</td>
      <td>185</td>
      <td>186.0</td>
      <td>0</td>
      <td>1</td>
      <td>0</td>
    </tr>
  </tbody>
</table>
<p>129587 rows × 24 columns</p>
</div>




```python
customer_encoded['Customer Type'] = customer_encoded['Customer Type'].map({'Loyal Customer': 1, 'disloyal Customer': 0})
customer_encoded['Type of Travel'] = customer_encoded['Type of Travel'].map({'Personal Travel': 1, 'Business travel': 0})
customer_encoded['satisfaction'] = customer_encoded['satisfaction'].map({'satisfied': 1, 'dissatisfied': 0})
customer_encoded
```




<div>
<style scoped>
    .dataframe tbody tr th:only-of-type {
        vertical-align: middle;
    }

    .dataframe tbody tr th {
        vertical-align: top;
    }

    .dataframe thead th {
        text-align: right;
    }
</style>
<table border="1" class="dataframe">
  <thead>
    <tr style="text-align: right;">
      <th></th>
      <th>satisfaction</th>
      <th>Customer Type</th>
      <th>Age</th>
      <th>Type of Travel</th>
      <th>Flight Distance</th>
      <th>Seat comfort</th>
      <th>Departure/Arrival time convenient</th>
      <th>Food and drink</th>
      <th>Gate location</th>
      <th>Inflight wifi service</th>
      <th>...</th>
      <th>Leg room service</th>
      <th>Baggage handling</th>
      <th>Checkin service</th>
      <th>Cleanliness</th>
      <th>Online boarding</th>
      <th>Departure Delay in Minutes</th>
      <th>Arrival Delay in Minutes</th>
      <th>Business</th>
      <th>Eco</th>
      <th>Eco Plus</th>
    </tr>
  </thead>
  <tbody>
    <tr>
      <th>0</th>
      <td>1</td>
      <td>1</td>
      <td>65</td>
      <td>1</td>
      <td>265</td>
      <td>0</td>
      <td>0</td>
      <td>0</td>
      <td>2</td>
      <td>2</td>
      <td>...</td>
      <td>0</td>
      <td>3</td>
      <td>5</td>
      <td>3</td>
      <td>2</td>
      <td>0</td>
      <td>0.0</td>
      <td>0</td>
      <td>1</td>
      <td>0</td>
    </tr>
    <tr>
      <th>1</th>
      <td>1</td>
      <td>1</td>
      <td>47</td>
      <td>1</td>
      <td>2464</td>
      <td>0</td>
      <td>0</td>
      <td>0</td>
      <td>3</td>
      <td>0</td>
      <td>...</td>
      <td>4</td>
      <td>4</td>
      <td>2</td>
      <td>3</td>
      <td>2</td>
      <td>310</td>
      <td>305.0</td>
      <td>1</td>
      <td>0</td>
      <td>0</td>
    </tr>
    <tr>
      <th>2</th>
      <td>1</td>
      <td>1</td>
      <td>15</td>
      <td>1</td>
      <td>2138</td>
      <td>0</td>
      <td>0</td>
      <td>0</td>
      <td>3</td>
      <td>2</td>
      <td>...</td>
      <td>3</td>
      <td>4</td>
      <td>4</td>
      <td>4</td>
      <td>2</td>
      <td>0</td>
      <td>0.0</td>
      <td>0</td>
      <td>1</td>
      <td>0</td>
    </tr>
    <tr>
      <th>3</th>
      <td>1</td>
      <td>1</td>
      <td>60</td>
      <td>1</td>
      <td>623</td>
      <td>0</td>
      <td>0</td>
      <td>0</td>
      <td>3</td>
      <td>3</td>
      <td>...</td>
      <td>0</td>
      <td>1</td>
      <td>4</td>
      <td>1</td>
      <td>3</td>
      <td>0</td>
      <td>0.0</td>
      <td>0</td>
      <td>1</td>
      <td>0</td>
    </tr>
    <tr>
      <th>4</th>
      <td>1</td>
      <td>1</td>
      <td>70</td>
      <td>1</td>
      <td>354</td>
      <td>0</td>
      <td>0</td>
      <td>0</td>
      <td>3</td>
      <td>4</td>
      <td>...</td>
      <td>0</td>
      <td>2</td>
      <td>4</td>
      <td>2</td>
      <td>5</td>
      <td>0</td>
      <td>0.0</td>
      <td>0</td>
      <td>1</td>
      <td>0</td>
    </tr>
    <tr>
      <th>...</th>
      <td>...</td>
      <td>...</td>
      <td>...</td>
      <td>...</td>
      <td>...</td>
      <td>...</td>
      <td>...</td>
      <td>...</td>
      <td>...</td>
      <td>...</td>
      <td>...</td>
      <td>...</td>
      <td>...</td>
      <td>...</td>
      <td>...</td>
      <td>...</td>
      <td>...</td>
      <td>...</td>
      <td>...</td>
      <td>...</td>
      <td>...</td>
    </tr>
    <tr>
      <th>129582</th>
      <td>1</td>
      <td>0</td>
      <td>29</td>
      <td>1</td>
      <td>1731</td>
      <td>5</td>
      <td>5</td>
      <td>5</td>
      <td>3</td>
      <td>2</td>
      <td>...</td>
      <td>3</td>
      <td>4</td>
      <td>4</td>
      <td>4</td>
      <td>2</td>
      <td>0</td>
      <td>0.0</td>
      <td>0</td>
      <td>1</td>
      <td>0</td>
    </tr>
    <tr>
      <th>129583</th>
      <td>0</td>
      <td>0</td>
      <td>63</td>
      <td>1</td>
      <td>2087</td>
      <td>2</td>
      <td>3</td>
      <td>2</td>
      <td>4</td>
      <td>2</td>
      <td>...</td>
      <td>3</td>
      <td>3</td>
      <td>1</td>
      <td>2</td>
      <td>1</td>
      <td>174</td>
      <td>172.0</td>
      <td>1</td>
      <td>0</td>
      <td>0</td>
    </tr>
    <tr>
      <th>129584</th>
      <td>0</td>
      <td>0</td>
      <td>69</td>
      <td>1</td>
      <td>2320</td>
      <td>3</td>
      <td>0</td>
      <td>3</td>
      <td>3</td>
      <td>3</td>
      <td>...</td>
      <td>3</td>
      <td>4</td>
      <td>2</td>
      <td>3</td>
      <td>2</td>
      <td>155</td>
      <td>163.0</td>
      <td>0</td>
      <td>1</td>
      <td>0</td>
    </tr>
    <tr>
      <th>129585</th>
      <td>0</td>
      <td>0</td>
      <td>66</td>
      <td>1</td>
      <td>2450</td>
      <td>3</td>
      <td>2</td>
      <td>3</td>
      <td>2</td>
      <td>3</td>
      <td>...</td>
      <td>2</td>
      <td>3</td>
      <td>2</td>
      <td>1</td>
      <td>2</td>
      <td>193</td>
      <td>205.0</td>
      <td>0</td>
      <td>1</td>
      <td>0</td>
    </tr>
    <tr>
      <th>129586</th>
      <td>0</td>
      <td>0</td>
      <td>38</td>
      <td>1</td>
      <td>4307</td>
      <td>3</td>
      <td>4</td>
      <td>3</td>
      <td>3</td>
      <td>3</td>
      <td>...</td>
      <td>5</td>
      <td>5</td>
      <td>3</td>
      <td>3</td>
      <td>3</td>
      <td>185</td>
      <td>186.0</td>
      <td>0</td>
      <td>1</td>
      <td>0</td>
    </tr>
  </tbody>
</table>
<p>129587 rows × 24 columns</p>
</div>



## SPLITING DATA


```python
X = customer_encoded.drop(columns = ['satisfaction'])
y = customer_encoded['satisfaction']
X.shape,y.shape
```




    ((129587, 23), (129587,))




```python
X
```




<div>
<style scoped>
    .dataframe tbody tr th:only-of-type {
        vertical-align: middle;
    }

    .dataframe tbody tr th {
        vertical-align: top;
    }

    .dataframe thead th {
        text-align: right;
    }
</style>
<table border="1" class="dataframe">
  <thead>
    <tr style="text-align: right;">
      <th></th>
      <th>Customer Type</th>
      <th>Age</th>
      <th>Type of Travel</th>
      <th>Flight Distance</th>
      <th>Seat comfort</th>
      <th>Departure/Arrival time convenient</th>
      <th>Food and drink</th>
      <th>Gate location</th>
      <th>Inflight wifi service</th>
      <th>Inflight entertainment</th>
      <th>...</th>
      <th>Leg room service</th>
      <th>Baggage handling</th>
      <th>Checkin service</th>
      <th>Cleanliness</th>
      <th>Online boarding</th>
      <th>Departure Delay in Minutes</th>
      <th>Arrival Delay in Minutes</th>
      <th>Business</th>
      <th>Eco</th>
      <th>Eco Plus</th>
    </tr>
  </thead>
  <tbody>
    <tr>
      <th>0</th>
      <td>1</td>
      <td>65</td>
      <td>1</td>
      <td>265</td>
      <td>0</td>
      <td>0</td>
      <td>0</td>
      <td>2</td>
      <td>2</td>
      <td>4</td>
      <td>...</td>
      <td>0</td>
      <td>3</td>
      <td>5</td>
      <td>3</td>
      <td>2</td>
      <td>0</td>
      <td>0.0</td>
      <td>0</td>
      <td>1</td>
      <td>0</td>
    </tr>
    <tr>
      <th>1</th>
      <td>1</td>
      <td>47</td>
      <td>1</td>
      <td>2464</td>
      <td>0</td>
      <td>0</td>
      <td>0</td>
      <td>3</td>
      <td>0</td>
      <td>2</td>
      <td>...</td>
      <td>4</td>
      <td>4</td>
      <td>2</td>
      <td>3</td>
      <td>2</td>
      <td>310</td>
      <td>305.0</td>
      <td>1</td>
      <td>0</td>
      <td>0</td>
    </tr>
    <tr>
      <th>2</th>
      <td>1</td>
      <td>15</td>
      <td>1</td>
      <td>2138</td>
      <td>0</td>
      <td>0</td>
      <td>0</td>
      <td>3</td>
      <td>2</td>
      <td>0</td>
      <td>...</td>
      <td>3</td>
      <td>4</td>
      <td>4</td>
      <td>4</td>
      <td>2</td>
      <td>0</td>
      <td>0.0</td>
      <td>0</td>
      <td>1</td>
      <td>0</td>
    </tr>
    <tr>
      <th>3</th>
      <td>1</td>
      <td>60</td>
      <td>1</td>
      <td>623</td>
      <td>0</td>
      <td>0</td>
      <td>0</td>
      <td>3</td>
      <td>3</td>
      <td>4</td>
      <td>...</td>
      <td>0</td>
      <td>1</td>
      <td>4</td>
      <td>1</td>
      <td>3</td>
      <td>0</td>
      <td>0.0</td>
      <td>0</td>
      <td>1</td>
      <td>0</td>
    </tr>
    <tr>
      <th>4</th>
      <td>1</td>
      <td>70</td>
      <td>1</td>
      <td>354</td>
      <td>0</td>
      <td>0</td>
      <td>0</td>
      <td>3</td>
      <td>4</td>
      <td>3</td>
      <td>...</td>
      <td>0</td>
      <td>2</td>
      <td>4</td>
      <td>2</td>
      <td>5</td>
      <td>0</td>
      <td>0.0</td>
      <td>0</td>
      <td>1</td>
      <td>0</td>
    </tr>
    <tr>
      <th>...</th>
      <td>...</td>
      <td>...</td>
      <td>...</td>
      <td>...</td>
      <td>...</td>
      <td>...</td>
      <td>...</td>
      <td>...</td>
      <td>...</td>
      <td>...</td>
      <td>...</td>
      <td>...</td>
      <td>...</td>
      <td>...</td>
      <td>...</td>
      <td>...</td>
      <td>...</td>
      <td>...</td>
      <td>...</td>
      <td>...</td>
      <td>...</td>
    </tr>
    <tr>
      <th>129582</th>
      <td>0</td>
      <td>29</td>
      <td>1</td>
      <td>1731</td>
      <td>5</td>
      <td>5</td>
      <td>5</td>
      <td>3</td>
      <td>2</td>
      <td>5</td>
      <td>...</td>
      <td>3</td>
      <td>4</td>
      <td>4</td>
      <td>4</td>
      <td>2</td>
      <td>0</td>
      <td>0.0</td>
      <td>0</td>
      <td>1</td>
      <td>0</td>
    </tr>
    <tr>
      <th>129583</th>
      <td>0</td>
      <td>63</td>
      <td>1</td>
      <td>2087</td>
      <td>2</td>
      <td>3</td>
      <td>2</td>
      <td>4</td>
      <td>2</td>
      <td>1</td>
      <td>...</td>
      <td>3</td>
      <td>3</td>
      <td>1</td>
      <td>2</td>
      <td>1</td>
      <td>174</td>
      <td>172.0</td>
      <td>1</td>
      <td>0</td>
      <td>0</td>
    </tr>
    <tr>
      <th>129584</th>
      <td>0</td>
      <td>69</td>
      <td>1</td>
      <td>2320</td>
      <td>3</td>
      <td>0</td>
      <td>3</td>
      <td>3</td>
      <td>3</td>
      <td>2</td>
      <td>...</td>
      <td>3</td>
      <td>4</td>
      <td>2</td>
      <td>3</td>
      <td>2</td>
      <td>155</td>
      <td>163.0</td>
      <td>0</td>
      <td>1</td>
      <td>0</td>
    </tr>
    <tr>
      <th>129585</th>
      <td>0</td>
      <td>66</td>
      <td>1</td>
      <td>2450</td>
      <td>3</td>
      <td>2</td>
      <td>3</td>
      <td>2</td>
      <td>3</td>
      <td>2</td>
      <td>...</td>
      <td>2</td>
      <td>3</td>
      <td>2</td>
      <td>1</td>
      <td>2</td>
      <td>193</td>
      <td>205.0</td>
      <td>0</td>
      <td>1</td>
      <td>0</td>
    </tr>
    <tr>
      <th>129586</th>
      <td>0</td>
      <td>38</td>
      <td>1</td>
      <td>4307</td>
      <td>3</td>
      <td>4</td>
      <td>3</td>
      <td>3</td>
      <td>3</td>
      <td>3</td>
      <td>...</td>
      <td>5</td>
      <td>5</td>
      <td>3</td>
      <td>3</td>
      <td>3</td>
      <td>185</td>
      <td>186.0</td>
      <td>0</td>
      <td>1</td>
      <td>0</td>
    </tr>
  </tbody>
</table>
<p>129587 rows × 23 columns</p>
</div>




```python
y
```




    0         1
    1         1
    2         1
    3         1
    4         1
             ..
    129582    1
    129583    0
    129584    0
    129585    0
    129586    0
    Name: satisfaction, Length: 129587, dtype: int64




```python
X_train, X_test, y_train, y_test = train_test_split(X, y,test_size=0.2, random_state=42)
X_train.shape, y_train.shape
```




    ((103669, 23), (103669,))



## SCALLING DATA


```python
scaler = StandardScaler()
```


```python
X_train_scaled = scaler.fit_transform(X_train)
X_test_scaled = scaler.transform(X_test)
```

## SELECTING BEST MODEL


```python
models = {
    'K-Nearest Neighbors': KNeighborsClassifier(),
    'Logistic Regression': LogisticRegression(),
    'Random Forest Classifier': RandomForestClassifier(),
    'Decision Tree Classifier': DecisionTreeClassifier(),
}
results = []

for name, model in models.items():
    kf = KFold(n_splits=6, shuffle=True, random_state=42)
    cv_results = cross_val_score(model, X_train_scaled, y_train, cv=kf, scoring='accuracy')
    print(f'CV Score (Mean) {name}: {np.mean(cv_results)}')
    results.append(cv_results)

plt.boxplot(results, labels=models.keys())
plt.title('Cross-validation Scores for Classification Models')
plt.xlabel('Model')
plt.ylabel('Accuracy')
plt.xticks(rotation=45)
plt.show()
```

    CV Score (Mean) K-Nearest Neighbors: 0.917882878405636
    CV Score (Mean) Logistic Regression: 0.8299298530637018
    CV Score (Mean) Random Forest Classifier: 0.9536698628381236
    CV Score (Mean) Decision Tree Classifier: 0.9341076021725102
    


    
![png](output_45_1.png)
    


. Random Forest Classifier outperforms other classification models


```python
rf = RandomForestClassifier(random_state=42)
```


```python
rf.fit(X_train,y_train)
```




<style>#sk-container-id-1 {color: black;}#sk-container-id-1 pre{padding: 0;}#sk-container-id-1 div.sk-toggleable {background-color: white;}#sk-container-id-1 label.sk-toggleable__label {cursor: pointer;display: block;width: 100%;margin-bottom: 0;padding: 0.3em;box-sizing: border-box;text-align: center;}#sk-container-id-1 label.sk-toggleable__label-arrow:before {content: "▸";float: left;margin-right: 0.25em;color: #696969;}#sk-container-id-1 label.sk-toggleable__label-arrow:hover:before {color: black;}#sk-container-id-1 div.sk-estimator:hover label.sk-toggleable__label-arrow:before {color: black;}#sk-container-id-1 div.sk-toggleable__content {max-height: 0;max-width: 0;overflow: hidden;text-align: left;background-color: #f0f8ff;}#sk-container-id-1 div.sk-toggleable__content pre {margin: 0.2em;color: black;border-radius: 0.25em;background-color: #f0f8ff;}#sk-container-id-1 input.sk-toggleable__control:checked~div.sk-toggleable__content {max-height: 200px;max-width: 100%;overflow: auto;}#sk-container-id-1 input.sk-toggleable__control:checked~label.sk-toggleable__label-arrow:before {content: "▾";}#sk-container-id-1 div.sk-estimator input.sk-toggleable__control:checked~label.sk-toggleable__label {background-color: #d4ebff;}#sk-container-id-1 div.sk-label input.sk-toggleable__control:checked~label.sk-toggleable__label {background-color: #d4ebff;}#sk-container-id-1 input.sk-hidden--visually {border: 0;clip: rect(1px 1px 1px 1px);clip: rect(1px, 1px, 1px, 1px);height: 1px;margin: -1px;overflow: hidden;padding: 0;position: absolute;width: 1px;}#sk-container-id-1 div.sk-estimator {font-family: monospace;background-color: #f0f8ff;border: 1px dotted black;border-radius: 0.25em;box-sizing: border-box;margin-bottom: 0.5em;}#sk-container-id-1 div.sk-estimator:hover {background-color: #d4ebff;}#sk-container-id-1 div.sk-parallel-item::after {content: "";width: 100%;border-bottom: 1px solid gray;flex-grow: 1;}#sk-container-id-1 div.sk-label:hover label.sk-toggleable__label {background-color: #d4ebff;}#sk-container-id-1 div.sk-serial::before {content: "";position: absolute;border-left: 1px solid gray;box-sizing: border-box;top: 0;bottom: 0;left: 50%;z-index: 0;}#sk-container-id-1 div.sk-serial {display: flex;flex-direction: column;align-items: center;background-color: white;padding-right: 0.2em;padding-left: 0.2em;position: relative;}#sk-container-id-1 div.sk-item {position: relative;z-index: 1;}#sk-container-id-1 div.sk-parallel {display: flex;align-items: stretch;justify-content: center;background-color: white;position: relative;}#sk-container-id-1 div.sk-item::before, #sk-container-id-1 div.sk-parallel-item::before {content: "";position: absolute;border-left: 1px solid gray;box-sizing: border-box;top: 0;bottom: 0;left: 50%;z-index: -1;}#sk-container-id-1 div.sk-parallel-item {display: flex;flex-direction: column;z-index: 1;position: relative;background-color: white;}#sk-container-id-1 div.sk-parallel-item:first-child::after {align-self: flex-end;width: 50%;}#sk-container-id-1 div.sk-parallel-item:last-child::after {align-self: flex-start;width: 50%;}#sk-container-id-1 div.sk-parallel-item:only-child::after {width: 0;}#sk-container-id-1 div.sk-dashed-wrapped {border: 1px dashed gray;margin: 0 0.4em 0.5em 0.4em;box-sizing: border-box;padding-bottom: 0.4em;background-color: white;}#sk-container-id-1 div.sk-label label {font-family: monospace;font-weight: bold;display: inline-block;line-height: 1.2em;}#sk-container-id-1 div.sk-label-container {text-align: center;}#sk-container-id-1 div.sk-container {/* jupyter's `normalize.less` sets `[hidden] { display: none; }` but bootstrap.min.css set `[hidden] { display: none !important; }` so we also need the `!important` here to be able to override the default hidden behavior on the sphinx rendered scikit-learn.org. See: https://github.com/scikit-learn/scikit-learn/issues/21755 */display: inline-block !important;position: relative;}#sk-container-id-1 div.sk-text-repr-fallback {display: none;}</style><div id="sk-container-id-1" class="sk-top-container"><div class="sk-text-repr-fallback"><pre>RandomForestClassifier(random_state=42)</pre><b>In a Jupyter environment, please rerun this cell to show the HTML representation or trust the notebook. <br />On GitHub, the HTML representation is unable to render, please try loading this page with nbviewer.org.</b></div><div class="sk-container" hidden><div class="sk-item"><div class="sk-estimator sk-toggleable"><input class="sk-toggleable__control sk-hidden--visually" id="sk-estimator-id-1" type="checkbox" checked><label for="sk-estimator-id-1" class="sk-toggleable__label sk-toggleable__label-arrow">RandomForestClassifier</label><div class="sk-toggleable__content"><pre>RandomForestClassifier(random_state=42)</pre></div></div></div></div></div>




```python
y_pred = rf.predict(X_test)
```

## MODEL EVALUATION


```python
plt.figure(figsize=(8, 6))
ConfusionMatrixDisplay.from_estimator(rf, X_test, y_test, cmap='Reds', values_format='d')
plt.title('Confusion Matrix')
plt.xlabel('Predicted Label')
plt.ylabel('True Label')
plt.show()
```


    <Figure size 800x600 with 0 Axes>



    
![png](output_51_1.png)
    



```python
report = classification_report(y_test, y_pred)
print(report)
```

                  precision    recall  f1-score   support
    
               0       0.94      0.96      0.95     11794
               1       0.97      0.95      0.96     14124
    
        accuracy                           0.96     25918
       macro avg       0.95      0.96      0.95     25918
    weighted avg       0.96      0.96      0.96     25918
    
    

* The Random Forest Model achieves high precision, recall, and F1-score for both classes, indicating that it performs well in     classifying both dissatisfied and satisfied customers.
* The overall accuracy of 96% suggests that the model is accurate in predicting the customer satisfaction status.


           Let's try Extreme Gradient Boosting

## EXTREME GRADIENT BOOSTING(XG BOOST CLASSIFIER)


```python
customer_dmatrix = xgb.DMatrix(data=X_train_scaled,label=y_train)
params={'binary':'logistic'}
cv_results = xgb.cv(dtrain=customer_dmatrix,
                    params=params,
                    nfold=4,
                    metrics="error",
                    as_pandas=True,
                    seed=42)
```


```python
cv_results['test-accuracy-mean'] = 1 - cv_results['test-error-mean']
mean_accuracy = cv_results['test-accuracy-mean'].iloc[-1]
print("Mean Accuracy (CV):", mean_accuracy)
```

    Mean Accuracy (CV): 0.9252525181720703
    

 * Now, let's proceed with hyperparameter tuning to improve the accuracy.

## HYPERPARAMETER TUNNING

### Gridsearch cv


```python
xgb_param_grid = {
    'learning_rate': [0.01, 0.1, 0.5],
    'n_estimators': [200],
    'max'
    'subsample': [0.3, 0.5, 0.9]
}
xgboost_model = xgb.XGBClassifier(objective = 'binary:logistic',seed=42)
grid_xgboost = GridSearchCV(
    estimator=xgboost_model,
    param_grid=xgb_param_grid,
    scoring='accuracy',
    cv=4,
    verbose=1
)
grid_xgboost.fit(X_train_scaled, y_train)
print("Best parameters found:", grid_xgboost.best_params_)
print("Best Accuracy Score:", grid_xgboost.best_score_)
```

    Fitting 4 folds for each of 9 candidates, totalling 36 fits
    Best parameters found: {'learning_rate': 0.1, 'maxsubsample': 0.3, 'n_estimators': 200}
    Best Accuracy Score: 0.9548756250710808
    

### RandomizedSearchCV


```python
xgb_param_grid = {
    'learning_rate': np.arange(0.01, 0.2, 0.01), 
    'n_estimators': [200],
    'subsample': np.arange(0.3, 1.0, 0.1), 
    'max_depth': np.arange(3, 10, 1), 
    'colsample_bytree': np.arange(0.3, 1.0, 0.1) 
}
xgboost_model = xgb.XGBClassifier(objective='binary:logistic', seed=42)
random_xgboost = RandomizedSearchCV(
    estimator=xgboost_model,
    param_distributions=xgb_param_grid,
    n_iter=15, 
    scoring='accuracy',
    cv=3,
    verbose=1,
    random_state=42
)

random_xgboost.fit(X_train_scaled, y_train)
print("Best parameters found:", random_xgboost.best_params_)
print("Best Accuracy Score:", random_xgboost.best_score_)
```

    Fitting 3 folds for each of 15 candidates, totalling 45 fits
    Best parameters found: {'subsample': 0.7000000000000002, 'n_estimators': 200, 'max_depth': 9, 'learning_rate': 0.11, 'colsample_bytree': 0.8000000000000003}
    Best Accuracy Score: 0.9558498751150842
    


```python
xgb_model = xgb.XGBClassifier(objective = 'binary:logistic',
                              subsample= 0.7,
                              n_estimators= 200,
                              max_depth = 9,
                              learning_rate = 0.11,
                              colsample_bytree=0.8)
xgb_model.fit(X_train_scaled, y_train)
```




<style>#sk-container-id-2 {color: black;}#sk-container-id-2 pre{padding: 0;}#sk-container-id-2 div.sk-toggleable {background-color: white;}#sk-container-id-2 label.sk-toggleable__label {cursor: pointer;display: block;width: 100%;margin-bottom: 0;padding: 0.3em;box-sizing: border-box;text-align: center;}#sk-container-id-2 label.sk-toggleable__label-arrow:before {content: "▸";float: left;margin-right: 0.25em;color: #696969;}#sk-container-id-2 label.sk-toggleable__label-arrow:hover:before {color: black;}#sk-container-id-2 div.sk-estimator:hover label.sk-toggleable__label-arrow:before {color: black;}#sk-container-id-2 div.sk-toggleable__content {max-height: 0;max-width: 0;overflow: hidden;text-align: left;background-color: #f0f8ff;}#sk-container-id-2 div.sk-toggleable__content pre {margin: 0.2em;color: black;border-radius: 0.25em;background-color: #f0f8ff;}#sk-container-id-2 input.sk-toggleable__control:checked~div.sk-toggleable__content {max-height: 200px;max-width: 100%;overflow: auto;}#sk-container-id-2 input.sk-toggleable__control:checked~label.sk-toggleable__label-arrow:before {content: "▾";}#sk-container-id-2 div.sk-estimator input.sk-toggleable__control:checked~label.sk-toggleable__label {background-color: #d4ebff;}#sk-container-id-2 div.sk-label input.sk-toggleable__control:checked~label.sk-toggleable__label {background-color: #d4ebff;}#sk-container-id-2 input.sk-hidden--visually {border: 0;clip: rect(1px 1px 1px 1px);clip: rect(1px, 1px, 1px, 1px);height: 1px;margin: -1px;overflow: hidden;padding: 0;position: absolute;width: 1px;}#sk-container-id-2 div.sk-estimator {font-family: monospace;background-color: #f0f8ff;border: 1px dotted black;border-radius: 0.25em;box-sizing: border-box;margin-bottom: 0.5em;}#sk-container-id-2 div.sk-estimator:hover {background-color: #d4ebff;}#sk-container-id-2 div.sk-parallel-item::after {content: "";width: 100%;border-bottom: 1px solid gray;flex-grow: 1;}#sk-container-id-2 div.sk-label:hover label.sk-toggleable__label {background-color: #d4ebff;}#sk-container-id-2 div.sk-serial::before {content: "";position: absolute;border-left: 1px solid gray;box-sizing: border-box;top: 0;bottom: 0;left: 50%;z-index: 0;}#sk-container-id-2 div.sk-serial {display: flex;flex-direction: column;align-items: center;background-color: white;padding-right: 0.2em;padding-left: 0.2em;position: relative;}#sk-container-id-2 div.sk-item {position: relative;z-index: 1;}#sk-container-id-2 div.sk-parallel {display: flex;align-items: stretch;justify-content: center;background-color: white;position: relative;}#sk-container-id-2 div.sk-item::before, #sk-container-id-2 div.sk-parallel-item::before {content: "";position: absolute;border-left: 1px solid gray;box-sizing: border-box;top: 0;bottom: 0;left: 50%;z-index: -1;}#sk-container-id-2 div.sk-parallel-item {display: flex;flex-direction: column;z-index: 1;position: relative;background-color: white;}#sk-container-id-2 div.sk-parallel-item:first-child::after {align-self: flex-end;width: 50%;}#sk-container-id-2 div.sk-parallel-item:last-child::after {align-self: flex-start;width: 50%;}#sk-container-id-2 div.sk-parallel-item:only-child::after {width: 0;}#sk-container-id-2 div.sk-dashed-wrapped {border: 1px dashed gray;margin: 0 0.4em 0.5em 0.4em;box-sizing: border-box;padding-bottom: 0.4em;background-color: white;}#sk-container-id-2 div.sk-label label {font-family: monospace;font-weight: bold;display: inline-block;line-height: 1.2em;}#sk-container-id-2 div.sk-label-container {text-align: center;}#sk-container-id-2 div.sk-container {/* jupyter's `normalize.less` sets `[hidden] { display: none; }` but bootstrap.min.css set `[hidden] { display: none !important; }` so we also need the `!important` here to be able to override the default hidden behavior on the sphinx rendered scikit-learn.org. See: https://github.com/scikit-learn/scikit-learn/issues/21755 */display: inline-block !important;position: relative;}#sk-container-id-2 div.sk-text-repr-fallback {display: none;}</style><div id="sk-container-id-2" class="sk-top-container"><div class="sk-text-repr-fallback"><pre>XGBClassifier(base_score=None, booster=None, callbacks=None,
              colsample_bylevel=None, colsample_bynode=None,
              colsample_bytree=0.8, device=None, early_stopping_rounds=None,
              enable_categorical=False, eval_metric=None, feature_types=None,
              gamma=None, grow_policy=None, importance_type=None,
              interaction_constraints=None, learning_rate=0.11, max_bin=None,
              max_cat_threshold=None, max_cat_to_onehot=None,
              max_delta_step=None, max_depth=9, max_leaves=None,
              min_child_weight=None, missing=nan, monotone_constraints=None,
              multi_strategy=None, n_estimators=200, n_jobs=None,
              num_parallel_tree=None, random_state=None, ...)</pre><b>In a Jupyter environment, please rerun this cell to show the HTML representation or trust the notebook. <br />On GitHub, the HTML representation is unable to render, please try loading this page with nbviewer.org.</b></div><div class="sk-container" hidden><div class="sk-item"><div class="sk-estimator sk-toggleable"><input class="sk-toggleable__control sk-hidden--visually" id="sk-estimator-id-2" type="checkbox" checked><label for="sk-estimator-id-2" class="sk-toggleable__label sk-toggleable__label-arrow">XGBClassifier</label><div class="sk-toggleable__content"><pre>XGBClassifier(base_score=None, booster=None, callbacks=None,
              colsample_bylevel=None, colsample_bynode=None,
              colsample_bytree=0.8, device=None, early_stopping_rounds=None,
              enable_categorical=False, eval_metric=None, feature_types=None,
              gamma=None, grow_policy=None, importance_type=None,
              interaction_constraints=None, learning_rate=0.11, max_bin=None,
              max_cat_threshold=None, max_cat_to_onehot=None,
              max_delta_step=None, max_depth=9, max_leaves=None,
              min_child_weight=None, missing=nan, monotone_constraints=None,
              multi_strategy=None, n_estimators=200, n_jobs=None,
              num_parallel_tree=None, random_state=None, ...)</pre></div></div></div></div></div>



## MODEL EVALUATION


```python
plt.figure(figsize=(8, 6))
ConfusionMatrixDisplay.from_estimator(xgb_model, X_test_scaled, y_test, cmap='Reds', values_format='d')
plt.title('Confusion Matrix')
plt.xlabel('Predicted Label')
plt.ylabel('True Label')
plt.show()
```


    <Figure size 800x600 with 0 Axes>



    
![png](output_66_1.png)
    



```python
report = classification_report(y_test, y_pred)
print(report)
```

                  precision    recall  f1-score   support
    
               0       0.94      0.96      0.95     11794
               1       0.97      0.95      0.96     14124
    
        accuracy                           0.96     25918
       macro avg       0.95      0.96      0.95     25918
    weighted avg       0.96      0.96      0.96     25918
    
    

# CONCLUSION

* Both Random Forest and XGBoost models exhibit comparable performance metrics, including accuracy, precision, recall, and F1-     score.
* However, the XGBoost model demonstrates a slightly lower number of false positives and false negatives compared to the Random   Forest model.
* This suggests that the XGBoost model outperforms the Random Forest model slightly in terms of minimizing classification         errors.



